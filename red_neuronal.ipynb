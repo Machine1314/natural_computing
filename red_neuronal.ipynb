{
 "cells": [
  {
   "cell_type": "markdown",
   "source": [
    "# Grupo 3\n",
    "Bruno Dueñas, Fernando Mejía, Mateo Córdova\n",
    "# Ejercicio 1: Melones y Naranjas"
   ],
   "metadata": {
    "collapsed": false,
    "pycharm": {
     "name": "#%% md\n"
    }
   }
  },
  {
   "cell_type": "code",
   "execution_count": 100,
   "outputs": [],
   "source": [
    "import tensorflow as tf\n",
    "import numpy as np\n",
    "generaciones = 1000\n",
    "naranjas = (10,200), (8,150), (7,170), (15,250)\n",
    "melones = (20,30), (26,30), (24,32), (19,31)\n",
    "test = (60,20), (30,20), (2.0, 250.0), (5.0, 249.0)\n",
    "test = [test]\n",
    "frutas = np.array([naranjas, melones], dtype=float)\n",
    "resultado = np.array([0, 1], dtype=float)"
   ],
   "metadata": {
    "collapsed": false,
    "pycharm": {
     "name": "#%%\n"
    }
   }
  },
  {
   "cell_type": "markdown",
   "source": [
    "## Modelo 1\n",
    "2 entradas (sin bia)\n",
    "Normalización estándar\n",
    "Probar con los ejemplos solicitados\n",
    "Probar con por lo menos 3 valores de velocidad de aprendizaje (puede ser 0-1, 0.7,0.3)"
   ],
   "metadata": {
    "collapsed": false,
    "pycharm": {
     "name": "#%% md\n"
    }
   }
  },
  {
   "cell_type": "code",
   "execution_count": 101,
   "outputs": [],
   "source": [
    "bias_initializer = tf.keras.initializers.HeNormal()\n",
    "oculta1 = tf.keras.layers.Dense(units=2, input_shape=[4, 2])\n",
    "oculta2 = tf.keras.layers.Dense(units=5)\n",
    "oculta3 = tf.keras.layers.Dense(units=10)\n",
    "oculta4 = tf.keras.layers.Dense(units=5)\n",
    "salida = tf.keras.layers.Dense(units=1)\n",
    "modelo = tf.keras.Sequential([oculta1, oculta2, oculta3, oculta4, salida])"
   ],
   "metadata": {
    "collapsed": false,
    "pycharm": {
     "name": "#%%\n"
    }
   }
  },
  {
   "cell_type": "markdown",
   "source": [
    "## Resultados de aprendizaje 0.1"
   ],
   "metadata": {
    "collapsed": false,
    "pycharm": {
     "name": "#%% md\n"
    }
   }
  },
  {
   "cell_type": "code",
   "execution_count": 102,
   "outputs": [
    {
     "name": "stdout",
     "output_type": "stream",
     "text": [
      "Hagamos una predicción!\n",
      "1/1 [==============================] - 0s 181ms/step\n",
      "resultados>> [[[0.49999857]\n",
      "  [0.49999905]\n",
      "  [0.4999981 ]\n",
      "  [0.5000019 ]]]\n",
      "El resultado es Naranja! valor> 1\n",
      "El resultado es Naranja! valor> 2\n",
      "El resultado es Naranja! valor> 3\n",
      "El resultado es Melón! valor> 4\n"
     ]
    }
   ],
   "source": [
    "modelo.compile(\n",
    "    optimizer=tf.keras.optimizers.Adam(0.1),\n",
    "    loss='mean_squared_error'\n",
    ")\n",
    "historial = modelo.fit(frutas, resultado, epochs=generaciones, verbose=False)\n",
    "print(\"Hagamos una predicción!\")\n",
    "resultado = modelo.predict(test)\n",
    "print('resultados>>',resultado)\n",
    "for res in range(len(resultado[0])):\n",
    "    fruta = 'Naranja' if resultado[0][res] < 0.5 else 'Melón'\n",
    "    print(\"El resultado es \" + fruta + \"! valor>\", res +1)"
   ],
   "metadata": {
    "collapsed": false,
    "pycharm": {
     "name": "#%%\n"
    }
   }
  },
  {
   "cell_type": "markdown",
   "source": [
    "## Entrenamiento de aprendizaje 0.3"
   ],
   "metadata": {
    "collapsed": false,
    "pycharm": {
     "name": "#%% md\n"
    }
   }
  },
  {
   "cell_type": "code",
   "execution_count": 103,
   "outputs": [
    {
     "name": "stdout",
     "output_type": "stream",
     "text": [
      "Hagamos una predicción!\n",
      "1/1 [==============================] - 0s 149ms/step\n",
      "resultados>> [[[0.5047536 ]\n",
      "  [0.5010035 ]\n",
      "  [0.49928784]\n",
      "  [0.49965882]]]\n",
      "El resultado es Melón! valor> 1\n",
      "El resultado es Melón! valor> 2\n",
      "El resultado es Naranja! valor> 3\n",
      "El resultado es Naranja! valor> 4\n"
     ]
    }
   ],
   "source": [
    "resultado = np.array([0, 1], dtype=float)\n",
    "adam_2 = modelo.compile(\n",
    "    optimizer=tf.keras.optimizers.Adam(0.3),\n",
    "    loss='mean_squared_error'\n",
    ")\n",
    "historial = modelo.fit(frutas, resultado, epochs=generaciones, verbose=False)\n",
    "print(\"Hagamos una predicción!\")\n",
    "resultado = modelo.predict(test)\n",
    "print('resultados>>',resultado)\n",
    "for res in range(len(resultado[0])):\n",
    "    fruta = 'Naranja' if resultado[0][res] < 0.5 else 'Melón'\n",
    "    print(\"El resultado es \" + fruta + \"! valor>\", res +1)"
   ],
   "metadata": {
    "collapsed": false,
    "pycharm": {
     "name": "#%%\n"
    }
   }
  },
  {
   "cell_type": "markdown",
   "source": [
    "## Entrenamiento de aprendizaje 0.7"
   ],
   "metadata": {
    "collapsed": false,
    "pycharm": {
     "name": "#%% md\n"
    }
   }
  },
  {
   "cell_type": "code",
   "execution_count": 104,
   "outputs": [
    {
     "name": "stdout",
     "output_type": "stream",
     "text": [
      "Hagamos una predicción!\n",
      "1/1 [==============================] - 0s 97ms/step\n",
      "resultados>> [[[ 8.785554  ]\n",
      "  [ 1.9286811 ]\n",
      "  [-0.5818169 ]\n",
      "  [ 0.08682323]]]\n",
      "El resultado es Melón! valor> 1\n",
      "El resultado es Melón! valor> 2\n",
      "El resultado es Naranja! valor> 3\n",
      "El resultado es Naranja! valor> 4\n"
     ]
    }
   ],
   "source": [
    "resultado = np.array([0, 1], dtype=float)\n",
    "adam_3 = modelo.compile(\n",
    "    optimizer=tf.keras.optimizers.Adam(0.7),\n",
    "    loss='mean_squared_error'\n",
    ")\n",
    "historial = modelo.fit(frutas, resultado, epochs=generaciones, verbose=False)\n",
    "print(\"Hagamos una predicción!\")\n",
    "resultado = modelo.predict(test)\n",
    "print('resultados>>',resultado)\n",
    "for res in range(len(resultado[0])):\n",
    "    fruta = 'Naranja' if resultado[0][res] < 0.5 else 'Melón'\n",
    "    print(\"El resultado es \" + fruta + \"! valor>\", res +1)"
   ],
   "metadata": {
    "collapsed": false,
    "pycharm": {
     "name": "#%%\n"
    }
   }
  },
  {
   "cell_type": "markdown",
   "source": [],
   "metadata": {
    "collapsed": false,
    "pycharm": {
     "name": "#%% md\n"
    }
   }
  },
  {
   "cell_type": "code",
   "execution_count": 105,
   "outputs": [
    {
     "name": "stdout",
     "output_type": "stream",
     "text": [
      "Variables internas del modelo\n",
      "[array([[ 0.4025515 ,  1.0127426 ],\n",
      "       [-0.97609884, -0.15469472]], dtype=float32), array([-0.2449427,  0.5104318], dtype=float32)]\n",
      "[array([[-1.1141866 , -0.13238595,  0.00947908,  0.3868331 ,  0.72537637],\n",
      "       [ 1.0694807 , -1.0720723 ,  2.474156  ,  2.4145544 , -0.38742474]],\n",
      "      dtype=float32), array([-0.5977138, -0.9143616,  2.6648905, -4.6916676,  2.8031473],\n",
      "      dtype=float32)]\n",
      "[array([[-1.0292156 ,  1.7578696 ,  1.9693469 , -0.57065195,  0.74028736,\n",
      "         1.1406956 , -0.87915456,  1.3156927 , -0.18898891, -0.696656  ],\n",
      "       [ 0.04149619, -0.14957497, -1.8225807 , -0.42257565,  0.30482042,\n",
      "         0.24153033, -0.5800034 ,  1.423051  , -0.19689995, -2.0954082 ],\n",
      "       [-0.96256685,  0.717953  ,  1.7294854 , -1.9949332 ,  2.201616  ,\n",
      "        -2.0679502 , -1.2477876 , -2.0025604 , -0.2828499 ,  2.0464876 ],\n",
      "       [-1.5555338 ,  1.1488534 , -1.3159782 , -2.55083   ,  3.167738  ,\n",
      "         0.67845833, -2.7699747 ,  0.9644109 , -2.213812  , -1.4531013 ],\n",
      "       [-0.16642931, -1.2946851 ,  0.03759507, -0.15295678,  0.44406608,\n",
      "         1.3083572 , -0.4948789 ,  1.1513683 , -0.09151439, -1.2948384 ]],\n",
      "      dtype=float32), array([ 0.7797978 ,  0.36540046, -7.50821   ,  0.14863367, -0.84965897,\n",
      "        9.192456  ,  4.7210245 ,  7.6874075 ,  0.79457945, -7.6046243 ],\n",
      "      dtype=float32)]\n",
      "[array([[-0.41805184,  0.9375186 ,  0.5572203 , -1.4655286 , -0.19576527],\n",
      "       [ 0.07981858, -0.69853735, -0.32320458,  2.147923  , -0.05327132],\n",
      "       [ 0.35670987, -1.3846241 ,  0.5248406 , -1.7413961 , -0.6895648 ],\n",
      "       [-1.0227072 , -1.3885579 , -0.2763316 , -1.9106319 , -0.1856997 ],\n",
      "       [ 1.3708729 ,  0.29814643,  0.42268276,  1.2269062 , -1.2914511 ],\n",
      "       [-0.53254884,  1.2625197 , -3.2187753 ,  1.1734178 ,  0.01963568],\n",
      "       [-0.87523013,  0.5443631 ,  0.27309412, -1.2550352 ,  0.89234626],\n",
      "       [-1.1610316 ,  0.8385482 , -2.3518646 ,  1.2561215 ,  0.57474536],\n",
      "       [ 0.02202474,  0.5447479 ,  0.2141139 , -1.2085485 , -0.02257358],\n",
      "       [ 0.6257876 , -0.95175594,  1.6884385 , -1.5276847 , -0.55730027]],\n",
      "      dtype=float32), array([-9.6733   , -8.628481 , -3.035504 ,  5.1579595,  8.746828 ],\n",
      "      dtype=float32)]\n",
      "[array([[-0.62626   ],\n",
      "       [-0.18547012],\n",
      "       [ 0.5040551 ],\n",
      "       [ 0.6072464 ],\n",
      "       [ 0.6761262 ]], dtype=float32), array([0.25357127], dtype=float32)]\n"
     ]
    }
   ],
   "source": [
    "print(\"Variables internas del modelo\")\n",
    "#print(capa.get_weights())\n",
    "print(oculta1.get_weights())\n",
    "print(oculta2.get_weights())\n",
    "print(oculta3.get_weights())\n",
    "print(oculta4.get_weights())\n",
    "print(salida.get_weights())"
   ],
   "metadata": {
    "collapsed": false,
    "pycharm": {
     "name": "#%%\n"
    }
   }
  },
  {
   "cell_type": "markdown",
   "source": [
    "# Modelo 3\n",
    "3 entradas (con bia)\n",
    "Normalización estándar\n",
    "Probar con los ejemplos solicitados\n",
    "Probar con por lo menos 3 valores de velocidad de aprendizaje (puede ser 0-1, 0.7,0.3)"
   ],
   "metadata": {
    "collapsed": false,
    "pycharm": {
     "name": "#%% md\n"
    }
   }
  },
  {
   "cell_type": "code",
   "execution_count": 106,
   "outputs": [],
   "source": [
    "entrada = tf.keras.layers.Dense(units=3, input_shape=[4, 2], use_bias=True, bias_initializer=\"zeros\")\n",
    "oculta2 = tf.keras.layers.Dense(units=5)\n",
    "oculta3 = tf.keras.layers.Dense(units=10)\n",
    "oculta4 = tf.keras.layers.Dense(units=5)\n",
    "salida = tf.keras.layers.Dense(units=1)\n",
    "modelo = tf.keras.Sequential([entrada, oculta2, oculta3, oculta4, salida])"
   ],
   "metadata": {
    "collapsed": false,
    "pycharm": {
     "name": "#%%\n"
    }
   }
  },
  {
   "cell_type": "markdown",
   "source": [
    "## Resultados de aprendizaje 0.1"
   ],
   "metadata": {
    "collapsed": false,
    "pycharm": {
     "name": "#%% md\n"
    }
   }
  },
  {
   "cell_type": "code",
   "execution_count": 107,
   "outputs": [
    {
     "name": "stdout",
     "output_type": "stream",
     "text": [
      "Hagamos una predicción!\n",
      "1/1 [==============================] - 0s 93ms/step\n",
      "resultados>> [[[0.54077536]\n",
      "  [0.5068434 ]\n",
      "  [0.49477202]\n",
      "  [0.4980809 ]]]\n",
      "El resultado es Melón! valor> 1\n",
      "El resultado es Melón! valor> 2\n",
      "El resultado es Naranja! valor> 3\n",
      "El resultado es Naranja! valor> 4\n"
     ]
    }
   ],
   "source": [
    "resultado = np.array([0, 1], dtype=float)\n",
    "modelo.compile(\n",
    "    optimizer=tf.keras.optimizers.Adam(0.1),\n",
    "    loss='mean_squared_error'\n",
    ")\n",
    "historial = modelo.fit(frutas, resultado, epochs=generaciones, verbose=False)\n",
    "print(\"Hagamos una predicción!\")\n",
    "resultado = modelo.predict(test)\n",
    "print('resultados>>', resultado)\n",
    "for res in range(len(resultado[0])):\n",
    "    fruta = 'Naranja' if resultado[0][res] < 0.5 else 'Melón'\n",
    "    print(\"El resultado es \" + fruta + \"! valor>\", res + 1)"
   ],
   "metadata": {
    "collapsed": false,
    "pycharm": {
     "name": "#%%\n"
    }
   }
  },
  {
   "cell_type": "markdown",
   "source": [
    "## Entrenamiento de aprendizaje 0.3"
   ],
   "metadata": {
    "collapsed": false,
    "pycharm": {
     "name": "#%% md\n"
    }
   }
  },
  {
   "cell_type": "code",
   "execution_count": 108,
   "outputs": [
    {
     "name": "stdout",
     "output_type": "stream",
     "text": [
      "Hagamos una predicción!\n",
      "1/1 [==============================] - 0s 93ms/step\n",
      "resultados>> [[[-0.01608598]\n",
      "  [ 0.4048977 ]\n",
      "  [ 0.57060254]\n",
      "  [ 0.52949184]]]\n",
      "El resultado es Naranja! valor> 1\n",
      "El resultado es Naranja! valor> 2\n",
      "El resultado es Melón! valor> 3\n",
      "El resultado es Melón! valor> 4\n"
     ]
    }
   ],
   "source": [
    "resultado = np.array([0, 1], dtype=float)\n",
    "adam_2 = modelo.compile(\n",
    "    optimizer=tf.keras.optimizers.Adam(0.3),\n",
    "    loss='mean_squared_error'\n",
    ")\n",
    "historial = modelo.fit(frutas, resultado, epochs=generaciones, verbose=False)\n",
    "print(\"Hagamos una predicción!\")\n",
    "resultado = modelo.predict(test)\n",
    "print('resultados>>', resultado)\n",
    "for res in range(len(resultado[0])):\n",
    "    fruta = 'Naranja' if resultado[0][res] < 0.5 else 'Melón'\n",
    "    print(\"El resultado es \" + fruta + \"! valor>\", res + 1)"
   ],
   "metadata": {
    "collapsed": false,
    "pycharm": {
     "name": "#%%\n"
    }
   }
  },
  {
   "cell_type": "markdown",
   "source": [
    "## Entrenamiento de aprendizaje 0.7"
   ],
   "metadata": {
    "collapsed": false,
    "pycharm": {
     "name": "#%% md\n"
    }
   }
  },
  {
   "cell_type": "code",
   "execution_count": 109,
   "outputs": [
    {
     "name": "stdout",
     "output_type": "stream",
     "text": [
      "Hagamos una predicción!\n",
      "1/1 [==============================] - 0s 97ms/step\n",
      "resultados>> [[[-29.346731 ]\n",
      "  [ -4.890356 ]\n",
      "  [  4.5868473]\n",
      "  [  2.199152 ]]]\n",
      "El resultado es Naranja! valor> 1\n",
      "El resultado es Naranja! valor> 2\n",
      "El resultado es Melón! valor> 3\n",
      "El resultado es Melón! valor> 4\n"
     ]
    }
   ],
   "source": [
    "resultado = np.array([0, 1], dtype=float)\n",
    "adam_3 = modelo.compile(\n",
    "    optimizer=tf.keras.optimizers.Adam(0.7),\n",
    "    loss='mean_squared_error'\n",
    ")\n",
    "historial = modelo.fit(frutas, resultado, epochs=generaciones, verbose=False)\n",
    "print(\"Hagamos una predicción!\")\n",
    "resultado = modelo.predict(test)\n",
    "print('resultados>>', resultado)\n",
    "for res in range(len(resultado[0])):\n",
    "    fruta = 'Naranja' if resultado[0][res] < 0.5 else 'Melón'\n",
    "    print(\"El resultado es \" + fruta + \"! valor>\", res + 1)"
   ],
   "metadata": {
    "collapsed": false,
    "pycharm": {
     "name": "#%%\n"
    }
   }
  },
  {
   "cell_type": "markdown",
   "source": [
    "## Variables del modelo"
   ],
   "metadata": {
    "collapsed": false,
    "pycharm": {
     "name": "#%% md\n"
    }
   }
  },
  {
   "cell_type": "code",
   "execution_count": 110,
   "outputs": [
    {
     "name": "stdout",
     "output_type": "stream",
     "text": [
      "[array([[-0.1760633 ,  0.6737704 ,  0.09175204],\n",
      "       [-0.49263766,  0.9934214 ,  0.17961219]], dtype=float32), array([-1.5730563 ,  1.992971  ,  0.94526124], dtype=float32)]\n",
      "[array([[ 0.20833723, -1.5577217 , -0.97074896,  0.8944671 ,  0.3079403 ],\n",
      "       [-0.19144337,  0.06076813, -0.42384762,  0.79749936,  0.51090944],\n",
      "       [ 0.79217845, -1.920559  , -1.5802399 ,  1.455224  ,  1.885745  ]],\n",
      "      dtype=float32), array([-3.1405041,  5.601475 ,  5.1685476, -7.131586 , -4.467606 ],\n",
      "      dtype=float32)]\n",
      "[array([[ 2.0674179 ,  2.1399398 , -2.1068745 , -2.760811  ,  2.0777776 ,\n",
      "         1.0331392 , -3.6931615 ,  2.3723757 , -0.14699532, -2.9894385 ],\n",
      "       [-3.4081728 , -2.0864546 ,  0.345988  ,  1.6575916 , -1.2354201 ,\n",
      "        -2.0939298 ,  0.96085393, -1.8670101 ,  3.6936257 ,  0.20445675],\n",
      "       [-2.7829232 , -0.08384869,  0.767535  ,  1.9072567 , -1.2939444 ,\n",
      "        -1.8448982 ,  0.8798159 ,  1.2443181 ,  1.3453606 ,  1.0529732 ],\n",
      "       [ 1.2308897 ,  1.8391664 , -3.739352  , -2.3170679 ,  3.5081873 ,\n",
      "         0.88507223, -2.1084101 ,  1.3942109 , -1.8841093 , -1.8523207 ],\n",
      "       [ 2.101964  ,  1.5114601 , -0.63153756, -2.0689278 ,  1.1607597 ,\n",
      "         1.5517906 , -1.0382318 ,  2.5286384 , -2.7061546 , -1.4444649 ]],\n",
      "      dtype=float32), array([ 1.1455455,  6.241465 , -6.5751514, -1.6759157,  2.890715 ,\n",
      "       -3.7662592, -5.7339406,  4.188009 ,  4.0100994, -6.0481753],\n",
      "      dtype=float32)]\n",
      "[array([[ 0.8430324 ,  2.3786786 , -2.2474449 ,  2.8370366 ,  0.84910274],\n",
      "       [-0.7325871 ,  1.7122769 , -1.5338132 ,  1.4333717 ,  1.8732212 ],\n",
      "       [-1.6180986 , -1.8430319 ,  0.9620268 , -1.424274  , -2.5308113 ],\n",
      "       [ 1.1893591 ,  0.106849  ,  1.0496283 ,  1.7648761 , -0.02357935],\n",
      "       [ 0.758108  , -0.21233967, -0.40395063,  0.23474982,  1.352909  ],\n",
      "       [-2.2386618 , -0.4774776 ,  1.7596716 , -1.4318101 , -3.2754788 ],\n",
      "       [-0.09058993, -1.7101321 ,  1.5802135 , -0.6669901 , -1.7392629 ],\n",
      "       [-0.9072828 ,  2.8223383 , -1.7957779 ,  1.3070976 ,  1.4481528 ],\n",
      "       [ 2.758812  ,  1.2664498 , -2.5809584 ,  2.0758154 ,  3.670755  ],\n",
      "       [-0.7538874 , -2.244617  ,  1.7385626 , -0.07969692, -1.1683933 ]],\n",
      "      dtype=float32), array([ 3.267573  ,  4.2486005 , -3.0726013 , -1.9991615 , -0.94243854],\n",
      "      dtype=float32)]\n",
      "[array([[-0.26811314],\n",
      "       [ 0.35126108],\n",
      "       [ 0.69283926],\n",
      "       [-1.1893251 ],\n",
      "       [ 0.4282443 ]], dtype=float32), array([-1.6911068], dtype=float32)]\n"
     ]
    }
   ],
   "source": [
    "print(entrada.get_weights())\n",
    "print(oculta2.get_weights())\n",
    "print(oculta3.get_weights())\n",
    "print(oculta4.get_weights())\n",
    "print(salida.get_weights())"
   ],
   "metadata": {
    "collapsed": false,
    "pycharm": {
     "name": "#%%\n"
    }
   }
  },
  {
   "cell_type": "markdown",
   "source": [
    "# Ejercicio 2: Modelos\n",
    "## Modelo 1 (2 entradas (sin bia)\n",
    "Normalización estándar\n",
    "Probar con los ejemplos solicitados\n",
    "Probar con por lo menos 3 valores de velocidad de aprendizaje (puede ser 0-1, 0.7,0.3)"
   ],
   "metadata": {
    "collapsed": false,
    "pycharm": {
     "name": "#%% md\n"
    }
   },
   "execution_count": 11
  },
  {
   "cell_type": "code",
   "execution_count": 114,
   "outputs": [],
   "source": [
    "modelosA = (52,1.79), (53,1.81), (55,1.75)\n",
    "modelosR = (65,1.70), (68,1.65),(58,1.71)\n",
    "testModelo = (50,1.83), (80,1.50), (49, 1.90)\n",
    "testModelo = [testModelo]\n",
    "input = np.array([modelosA, modelosR], dtype=float)\n",
    "resultado = np.array([1, 0], dtype=float) #1 aceptada 0 rechazada"
   ],
   "metadata": {
    "collapsed": false,
    "pycharm": {
     "name": "#%%\n"
    }
   }
  },
  {
   "cell_type": "code",
   "execution_count": 115,
   "outputs": [],
   "source": [
    "bias_initializer = tf.keras.initializers.HeNormal()\n",
    "oculta1 = tf.keras.layers.Dense(units=2, input_shape=[3, 2])\n",
    "oculta2 = tf.keras.layers.Dense(units=5)\n",
    "oculta3 = tf.keras.layers.Dense(units=10)\n",
    "oculta4 = tf.keras.layers.Dense(units=5)\n",
    "salida = tf.keras.layers.Dense(units=1)\n",
    "modelo = tf.keras.Sequential([oculta1, oculta2, oculta3, oculta4, salida])\n"
   ],
   "metadata": {
    "collapsed": false,
    "pycharm": {
     "name": "#%%\n"
    }
   }
  },
  {
   "cell_type": "markdown",
   "source": [
    "## Resultados de aprendizaje 0.1"
   ],
   "metadata": {
    "collapsed": false,
    "pycharm": {
     "name": "#%% md\n"
    }
   }
  },
  {
   "cell_type": "code",
   "execution_count": 116,
   "outputs": [
    {
     "name": "stdout",
     "output_type": "stream",
     "text": [
      "Hagamos una predicción!\n",
      "1/1 [==============================] - 0s 131ms/step\n",
      "resultados>> [[[0.43472642]\n",
      "  [0.66242534]\n",
      "  [0.4312759 ]]]\n",
      "El resultado es Rechazada! valor> 1\n",
      "El resultado es Aceptada! valor> 2\n",
      "El resultado es Rechazada! valor> 3\n"
     ]
    }
   ],
   "source": [
    "modelo.compile(\n",
    "    optimizer=tf.keras.optimizers.Adam(0.1),\n",
    "    loss='mean_squared_error'\n",
    ")\n",
    "historial = modelo.fit(input, resultado, epochs=generaciones, verbose=False)\n",
    "print(\"Hagamos una predicción!\")\n",
    "resultado = modelo.predict(testModelo)\n",
    "print('resultados>>', resultado)\n",
    "for res in range(len(resultado[0])):\n",
    "    decision = 'Rechazada' if resultado[0][res] < 0.5 else 'Aceptada'\n",
    "    print(\"El resultado es \" + decision + \"! valor>\", res + 1)"
   ],
   "metadata": {
    "collapsed": false,
    "pycharm": {
     "name": "#%%\n"
    }
   }
  },
  {
   "cell_type": "markdown",
   "source": [
    "## Entrenamiento de aprendizaje 0.3"
   ],
   "metadata": {
    "collapsed": false,
    "pycharm": {
     "name": "#%% md\n"
    }
   }
  },
  {
   "cell_type": "code",
   "execution_count": 117,
   "outputs": [
    {
     "name": "stdout",
     "output_type": "stream",
     "text": [
      "Hagamos una predicción!\n",
      "1/1 [==============================] - 0s 97ms/step\n",
      "resultados>> [[[0.49463964]\n",
      "  [0.51402164]\n",
      "  [0.49271607]]]\n",
      "El resultado es Rechazada! valor> 1\n",
      "El resultado es Aceptada! valor> 2\n",
      "El resultado es Rechazada! valor> 3\n"
     ]
    }
   ],
   "source": [
    "resultado = np.array([0, 1], dtype=float)\n",
    "adam_2 = modelo.compile(\n",
    "    optimizer=tf.keras.optimizers.Adam(0.3),\n",
    "    loss='mean_squared_error'\n",
    ")\n",
    "historial = modelo.fit(input, resultado, epochs=generaciones, verbose=False)\n",
    "print(\"Hagamos una predicción!\")\n",
    "resultado = modelo.predict(testModelo)\n",
    "print('resultados>>', resultado)\n",
    "for res in range(len(resultado[0])):\n",
    "    decision = 'Rechazada' if resultado[0][res] < 0.5 else 'Aceptada'\n",
    "    print(\"El resultado es \" + decision + \"! valor>\", res + 1)"
   ],
   "metadata": {
    "collapsed": false,
    "pycharm": {
     "name": "#%%\n"
    }
   }
  },
  {
   "cell_type": "markdown",
   "source": [
    "## Entrenamiento de aprendizaje 0.7"
   ],
   "metadata": {
    "collapsed": false,
    "pycharm": {
     "name": "#%% md\n"
    }
   }
  },
  {
   "cell_type": "code",
   "execution_count": 118,
   "outputs": [
    {
     "name": "stdout",
     "output_type": "stream",
     "text": [
      "Hagamos una predicción!\n",
      "1/1 [==============================] - 0s 101ms/step\n",
      "resultados>> [[[-2.321858 ]\n",
      "  [ 7.0229754]\n",
      "  [-2.5961576]]]\n",
      "El resultado es Rechazada! valor> 1\n",
      "El resultado es Aceptada! valor> 2\n",
      "El resultado es Rechazada! valor> 3\n"
     ]
    }
   ],
   "source": [
    "resultado = np.array([0, 1], dtype=float)\n",
    "adam_3 = modelo.compile(\n",
    "    optimizer=tf.keras.optimizers.Adam(0.7),\n",
    "    loss='mean_squared_error'\n",
    ")\n",
    "historial = modelo.fit(input, resultado, epochs=generaciones, verbose=False)\n",
    "print(\"Hagamos una predicción!\")\n",
    "resultado = modelo.predict(testModelo)\n",
    "print('resultados>>', resultado)\n",
    "for res in range(len(resultado[0])):\n",
    "    decision = 'Rechazada' if resultado[0][res] < 0.5 else 'Aceptada'\n",
    "    print(\"El resultado es \" + decision + \"! valor>\", res + 1)"
   ],
   "metadata": {
    "collapsed": false,
    "pycharm": {
     "name": "#%%\n"
    }
   }
  },
  {
   "cell_type": "markdown",
   "source": [
    "## Variables del modelo"
   ],
   "metadata": {
    "collapsed": false,
    "pycharm": {
     "name": "#%% md\n"
    }
   }
  },
  {
   "cell_type": "code",
   "execution_count": 119,
   "outputs": [
    {
     "name": "stdout",
     "output_type": "stream",
     "text": [
      "[array([[-0.00825232, -1.504155  ],\n",
      "       [ 0.03245277, -2.353155  ]], dtype=float32), array([-0.03977021, -2.2813532 ], dtype=float32)]\n",
      "[array([[-1.8819977e-01, -8.7986392e-01,  7.5694060e-01,  3.2771045e-01,\n",
      "         1.9336697e+00],\n",
      "       [-3.1486351e-02, -1.2727553e-03,  6.9982785e-01,  5.5510658e-01,\n",
      "         8.8586980e-01]], dtype=float32), array([-2.2080958 , -1.9562681 , -1.4195888 , -1.5007826 ,  0.11166915],\n",
      "      dtype=float32)]\n",
      "[array([[ 0.8077784 , -0.8218789 , -0.67316705,  0.79648167,  1.2291403 ,\n",
      "         1.1196052 ,  2.8314579 ,  0.64839995, -1.6112093 , -1.1835386 ],\n",
      "       [-1.2869962 ,  0.3495902 , -1.5105581 ,  0.12313326, -1.0107808 ,\n",
      "        -0.44631863,  3.6829908 ,  0.7442753 ,  0.13957712, -4.069766  ],\n",
      "       [-0.9533325 , -0.7886305 , -1.3723645 , -0.07535049,  1.7857847 ,\n",
      "         1.5712463 ,  3.0749378 , -0.7562271 ,  0.69183964, -1.5252931 ],\n",
      "       [ 1.6395415 ,  0.9761109 ,  1.6374073 ,  0.8291119 ,  4.089833  ,\n",
      "         1.0519559 , -0.70344526, -1.0871832 , -1.8110784 , -0.0521462 ],\n",
      "       [-1.3799828 , -1.353508  ,  1.836713  , -0.6486414 , -1.9431473 ,\n",
      "        -1.4684395 ,  1.5175054 , -1.429723  ,  0.08269481, -1.3930931 ]],\n",
      "      dtype=float32), array([ 3.7846234 ,  0.40648016, -2.2056763 ,  2.795071  , 10.294566  ,\n",
      "        3.5759873 , -0.6887333 , -2.6306653 ,  5.3568463 ,  2.4718096 ],\n",
      "      dtype=float32)]\n",
      "[array([[-0.3232997 , -2.922617  , -1.1708505 ,  1.9681143 ,  0.55600244],\n",
      "       [ 0.03923083, -2.3915398 , -2.8549986 ,  2.3776171 , -1.4059671 ],\n",
      "       [ 2.2628925 , -1.1943151 , -0.50047857,  0.2032198 , -0.47696048],\n",
      "       [-0.3533119 ,  0.81080365,  2.623562  ,  0.04214525,  3.4517252 ],\n",
      "       [ 4.370721  , -3.6526613 ,  0.87681574, -3.285495  ,  3.2961736 ],\n",
      "       [-0.5940762 ,  1.42516   ,  1.3866389 ,  0.15249215,  1.859301  ],\n",
      "       [ 0.4583472 ,  1.5428407 ,  1.1870729 , -0.30683658, -0.7391128 ],\n",
      "       [ 3.2517545 , -1.8776547 , -1.7387271 , -3.087007  , -1.3788037 ],\n",
      "       [ 1.9241722 ,  2.4108753 ,  2.9892821 , -0.54988617,  2.4223685 ],\n",
      "       [ 0.6876114 , -2.723979  ,  2.1617754 , -1.5529186 ,  1.7164639 ]],\n",
      "      dtype=float32), array([ 1.6779176, -5.5579486, -4.675116 ,  2.6644816,  1.0115077],\n",
      "      dtype=float32)]\n",
      "[array([[-0.1711193 ],\n",
      "       [-0.19175617],\n",
      "       [ 0.6475754 ],\n",
      "       [-0.8413981 ],\n",
      "       [-0.7743237 ]], dtype=float32), array([-2.981297], dtype=float32)]\n"
     ]
    }
   ],
   "source": [
    "print(oculta1.get_weights())\n",
    "print(oculta2.get_weights())\n",
    "print(oculta3.get_weights())\n",
    "print(oculta4.get_weights())\n",
    "print(salida.get_weights())"
   ],
   "metadata": {
    "collapsed": false,
    "pycharm": {
     "name": "#%%\n"
    }
   }
  },
  {
   "cell_type": "markdown",
   "source": [
    "# Modelo 3 - 3 entradas (bia)\n",
    "Normalización estándar\n",
    "Probar con los ejemplos solicitados\n",
    "Probar con por lo menos 3 valores de velocidad de aprendizaje (puede ser 0-1, 0.7,0.3)"
   ],
   "metadata": {
    "collapsed": false,
    "pycharm": {
     "name": "#%% md\n"
    }
   }
  },
  {
   "cell_type": "code",
   "execution_count": 121,
   "outputs": [],
   "source": [
    "entrada = tf.keras.layers.Dense(units=3, input_shape=[3, 2], use_bias=True, bias_initializer=\"zeros\")\n",
    "oculta2 = tf.keras.layers.Dense(units=5)\n",
    "oculta3 = tf.keras.layers.Dense(units=10)\n",
    "oculta4 = tf.keras.layers.Dense(units=5)\n",
    "salida = tf.keras.layers.Dense(units=1)\n",
    "modelo = tf.keras.Sequential([entrada, oculta2, oculta3, oculta4, salida])"
   ],
   "metadata": {
    "collapsed": false,
    "pycharm": {
     "name": "#%%\n"
    }
   }
  },
  {
   "cell_type": "markdown",
   "source": [
    "## Resultados de aprendizaje 0.1"
   ],
   "metadata": {
    "collapsed": false,
    "pycharm": {
     "name": "#%% md\n"
    }
   }
  },
  {
   "cell_type": "code",
   "execution_count": 122,
   "outputs": [
    {
     "name": "stdout",
     "output_type": "stream",
     "text": [
      "Hagamos una predicción!\n",
      "1/1 [==============================] - 0s 123ms/step\n",
      "resultados>> [[[0.4903919]\n",
      "  [0.5220298]\n",
      "  [0.4969806]]]\n",
      "El resultado es Rechazada! valor> 1\n",
      "El resultado es Aceptada! valor> 2\n",
      "El resultado es Rechazada! valor> 3\n"
     ]
    }
   ],
   "source": [
    "resultado = np.array([0, 1], dtype=float)\n",
    "modelo.compile(\n",
    "    optimizer=tf.keras.optimizers.Adam(0.1),\n",
    "    loss='mean_squared_error'\n",
    ")\n",
    "historial = modelo.fit(input, resultado, epochs=generaciones, verbose=False)\n",
    "print(\"Hagamos una predicción!\")\n",
    "resultado = modelo.predict(testModelo)\n",
    "print('resultados>>', resultado)\n",
    "for res in range(len(resultado[0])):\n",
    "    decision = 'Rechazada' if resultado[0][res] < 0.5 else 'Aceptada'\n",
    "    print(\"El resultado es \" + decision + \"! valor>\", res + 1)"
   ],
   "metadata": {
    "collapsed": false,
    "pycharm": {
     "name": "#%%\n"
    }
   }
  },
  {
   "cell_type": "markdown",
   "source": [
    "## Entrenamiento de aprendizaje 0.3"
   ],
   "metadata": {
    "collapsed": false,
    "pycharm": {
     "name": "#%% md\n"
    }
   }
  },
  {
   "cell_type": "code",
   "execution_count": 123,
   "outputs": [
    {
     "name": "stdout",
     "output_type": "stream",
     "text": [
      "Hagamos una predicción!\n",
      "1/1 [==============================] - 0s 397ms/step\n",
      "resultados>> [[[0.51852685]\n",
      "  [0.45736772]\n",
      "  [0.56875503]]]\n",
      "El resultado es Aceptada! valor> 1\n",
      "El resultado es Rechazada! valor> 2\n",
      "El resultado es Aceptada! valor> 3\n"
     ]
    }
   ],
   "source": [
    "resultado = np.array([0, 1], dtype=float)\n",
    "adam_2 = modelo.compile(\n",
    "    optimizer=tf.keras.optimizers.Adam(0.3),\n",
    "    loss='mean_squared_error'\n",
    ")\n",
    "historial = modelo.fit(input, resultado, epochs=generaciones, verbose=False)\n",
    "print(\"Hagamos una predicción!\")\n",
    "resultado = modelo.predict(testModelo)\n",
    "print('resultados>>', resultado)\n",
    "for res in range(len(resultado[0])):\n",
    "    decision = 'Rechazada' if resultado[0][res] < 0.5 else 'Aceptada'\n",
    "    print(\"El resultado es \" + decision + \"! valor>\", res + 1)"
   ],
   "metadata": {
    "collapsed": false,
    "pycharm": {
     "name": "#%%\n"
    }
   }
  },
  {
   "cell_type": "markdown",
   "source": [
    "## Entrenamiento de aprendizaje 0.7"
   ],
   "metadata": {
    "collapsed": false,
    "pycharm": {
     "name": "#%% md\n"
    }
   }
  },
  {
   "cell_type": "code",
   "execution_count": 124,
   "outputs": [
    {
     "name": "stdout",
     "output_type": "stream",
     "text": [
      "Hagamos una predicción!\n",
      "1/1 [==============================] - 0s 106ms/step\n",
      "resultados>> [[[ -4.802992]\n",
      "  [ 12.689867]\n",
      "  [-19.463575]]]\n",
      "El resultado es Rechazada! valor> 1\n",
      "El resultado es Aceptada! valor> 2\n",
      "El resultado es Rechazada! valor> 3\n"
     ]
    }
   ],
   "source": [
    "resultado = np.array([0, 1], dtype=float)\n",
    "adam_3 = modelo.compile(\n",
    "    optimizer=tf.keras.optimizers.Adam(0.7),\n",
    "    loss='mean_squared_error'\n",
    ")\n",
    "historial = modelo.fit(input, resultado, epochs=generaciones, verbose=False)\n",
    "print(\"Hagamos una predicción!\")\n",
    "resultado = modelo.predict(testModelo)\n",
    "print('resultados>>', resultado)\n",
    "for res in range(len(resultado[0])):\n",
    "    decision = 'Rechazada' if resultado[0][res] < 0.5 else 'Aceptada'\n",
    "    print(\"El resultado es \" + decision + \"! valor>\", res + 1)"
   ],
   "metadata": {
    "collapsed": false,
    "pycharm": {
     "name": "#%%\n"
    }
   }
  },
  {
   "cell_type": "code",
   "execution_count": 125,
   "outputs": [],
   "source": [
    "## Variables del modelo"
   ],
   "metadata": {
    "collapsed": false,
    "pycharm": {
     "name": "#%%\n"
    }
   }
  },
  {
   "cell_type": "code",
   "execution_count": 126,
   "outputs": [
    {
     "name": "stdout",
     "output_type": "stream",
     "text": [
      "[array([[ 0.39878   ,  0.28923765, -0.7432553 ],\n",
      "       [ 0.6338753 , -0.41468984, -2.4603252 ]], dtype=float32), array([ 0.39459068,  0.13501821, -2.0743704 ], dtype=float32)]\n",
      "[array([[-1.3888588 ,  3.5454664 , -2.6616242 ,  1.5557996 , -3.3145876 ],\n",
      "       [-0.26091978, -1.8276796 ,  1.2581513 , -2.9223814 ,  0.15489611],\n",
      "       [-1.3828315 ,  0.972152  ,  0.06219237, -0.7350814 , -1.1700524 ]],\n",
      "      dtype=float32), array([-7.2673326,  7.2776914, -6.5902514, -1.179996 , -5.926848 ],\n",
      "      dtype=float32)]\n",
      "[array([[ 3.6932418 , -3.971654  ,  4.5145316 ,  3.427897  ,  3.900706  ,\n",
      "         1.1611459 ,  2.8750992 , -0.05056158,  0.6056476 ,  3.943179  ],\n",
      "       [-2.3521607 ,  1.732836  , -3.4367378 , -1.1481382 , -2.067177  ,\n",
      "        -1.7363492 , -1.7255064 , -1.4530892 ,  1.9330724 , -2.2467933 ],\n",
      "       [ 2.5387626 , -0.829178  ,  3.7726433 ,  0.5942366 ,  1.0262605 ,\n",
      "         1.5664988 ,  1.4842227 ,  1.766793  , -2.7755637 ,  1.6907967 ],\n",
      "       [-0.17204729, -1.6964707 ,  4.011436  ,  2.8416696 ,  1.3388387 ,\n",
      "         3.1166363 ,  4.273149  ,  3.0261426 ,  0.57507265,  2.577387  ],\n",
      "       [ 3.023954  , -2.985416  ,  4.6313615 ,  2.2403615 ,  3.1223233 ,\n",
      "         0.8214368 ,  2.2751973 ,  0.44300473, -0.9890684 ,  3.8577354 ]],\n",
      "      dtype=float32), array([ 3.9752    , -1.073982  ,  6.953498  ,  2.8582442 ,  2.6515436 ,\n",
      "        2.514894  ,  4.591211  ,  1.3561234 ,  4.3143916 ,  0.36585945],\n",
      "      dtype=float32)]\n",
      "[array([[ 1.1887887 , -1.7710959 , -1.2028673 , -1.3310121 , -2.0773025 ],\n",
      "       [ 1.4045849 , -1.6073804 , -0.3088414 , -0.8809933 ,  0.4834037 ],\n",
      "       [ 1.4250437 , -2.8352528 ,  1.6982086 , -2.4443362 , -1.8037003 ],\n",
      "       [-2.4003897 ,  2.3724644 ,  0.63894814,  1.6444525 , -1.0470939 ],\n",
      "       [ 1.570502  , -0.44059312, -1.6292118 , -0.93501824,  0.8148858 ],\n",
      "       [ 2.2796261 , -1.6011288 ,  0.8872374 , -1.9264302 , -0.9822885 ],\n",
      "       [ 2.9493947 , -2.2444654 ,  2.8758516 , -2.9231257 ,  0.30515936],\n",
      "       [ 1.0782807 , -1.1819344 ,  2.524312  , -1.2059088 ,  0.09265633],\n",
      "       [ 2.0134058 , -1.6341131 ,  2.735448  , -2.4921618 ,  0.7976827 ],\n",
      "       [-3.0577009 ,  3.6373174 ,  2.1793213 ,  3.9942832 ,  1.3244252 ]],\n",
      "      dtype=float32), array([ 2.0868645, -1.844607 ,  2.7388842, -2.5328114,  3.095452 ],\n",
      "      dtype=float32)]\n",
      "[array([[ 0.60574967],\n",
      "       [-0.671501  ],\n",
      "       [-1.622987  ],\n",
      "       [-0.7012979 ],\n",
      "       [ 1.0413702 ]], dtype=float32), array([2.1706412], dtype=float32)]\n"
     ]
    }
   ],
   "source": [
    "print(entrada.get_weights())\n",
    "print(oculta2.get_weights())\n",
    "print(oculta3.get_weights())\n",
    "print(oculta4.get_weights())\n",
    "print(salida.get_weights())"
   ],
   "metadata": {
    "collapsed": false,
    "pycharm": {
     "name": "#%%\n"
    }
   }
  },
  {
   "cell_type": "markdown",
   "source": [],
   "metadata": {
    "collapsed": false,
    "pycharm": {
     "name": "#%% md\n"
    }
   }
  }
 ],
 "metadata": {
  "kernelspec": {
   "display_name": "Python 3",
   "language": "python",
   "name": "python3"
  },
  "language_info": {
   "codemirror_mode": {
    "name": "ipython",
    "version": 2
   },
   "file_extension": ".py",
   "mimetype": "text/x-python",
   "name": "python",
   "nbconvert_exporter": "python",
   "pygments_lexer": "ipython2",
   "version": "2.7.6"
  }
 },
 "nbformat": 4,
 "nbformat_minor": 0
}